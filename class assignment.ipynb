{
 "cells": [
  {
   "cell_type": "code",
   "execution_count": 1,
   "id": "c1781a4a-c3fe-4397-9235-ca40f7d31a78",
   "metadata": {},
   "outputs": [],
   "source": [
    "class subfieldsinAI():\n",
    "    def subfields():\n",
    "        print(\"Sub-fields in AI are :\")\n",
    "        print(\"Machine learning\")\n",
    "        print(\"Neural network\")\n",
    "        print(\"Vision\")\n",
    "        print(\"Robotics\")\n",
    "        print(\"Speech processing\")\n",
    "        print(\"Natural language processing\")\n",
    "        return subfields\n"
   ]
  },
  {
   "cell_type": "code",
   "execution_count": 2,
   "id": "4a34485c-39d9-40e8-a1aa-94496d360992",
   "metadata": {},
   "outputs": [
    {
     "name": "stdout",
     "output_type": "stream",
     "text": [
      "Sub-fields in AI are :\n",
      "Machine learning\n",
      "Neural network\n",
      "Vision\n",
      "Robotics\n",
      "Speech processing\n",
      "Natural language processing\n"
     ]
    },
    {
     "ename": "NameError",
     "evalue": "name 'subfields' is not defined",
     "output_type": "error",
     "traceback": [
      "\u001b[1;31m---------------------------------------------------------------------------\u001b[0m",
      "\u001b[1;31mNameError\u001b[0m                                 Traceback (most recent call last)",
      "Cell \u001b[1;32mIn[2], line 1\u001b[0m\n\u001b[1;32m----> 1\u001b[0m subfieldsinAI\u001b[38;5;241m.\u001b[39msubfields()\n",
      "Cell \u001b[1;32mIn[1], line 10\u001b[0m, in \u001b[0;36msubfieldsinAI.subfields\u001b[1;34m()\u001b[0m\n\u001b[0;32m      8\u001b[0m \u001b[38;5;28mprint\u001b[39m(\u001b[38;5;124m\"\u001b[39m\u001b[38;5;124mSpeech processing\u001b[39m\u001b[38;5;124m\"\u001b[39m)\n\u001b[0;32m      9\u001b[0m \u001b[38;5;28mprint\u001b[39m(\u001b[38;5;124m\"\u001b[39m\u001b[38;5;124mNatural language processing\u001b[39m\u001b[38;5;124m\"\u001b[39m)\n\u001b[1;32m---> 10\u001b[0m \u001b[38;5;28;01mreturn\u001b[39;00m subfields\n",
      "\u001b[1;31mNameError\u001b[0m: name 'subfields' is not defined"
     ]
    }
   ],
   "source": [
    "subfieldsinAI.subfields()"
   ]
  },
  {
   "cell_type": "code",
   "execution_count": 3,
   "id": "79e0d6bb-78e8-492f-a803-a48682579e02",
   "metadata": {},
   "outputs": [],
   "source": [
    "class oddeven():\n",
    "    def oddeven():\n",
    "        num=int(input(\"Enter any number:\"))\n",
    "        if((num%2)==0):\n",
    "            print(num,\"is even number\")\n",
    "        else:\n",
    "            print(num,\"is odd number\")\n",
    "        return oddeven    \n"
   ]
  },
  {
   "cell_type": "code",
   "execution_count": 4,
   "id": "805953e4-7a92-4834-946b-0e407f454770",
   "metadata": {},
   "outputs": [
    {
     "name": "stdin",
     "output_type": "stream",
     "text": [
      "Enter any number: 23\n"
     ]
    },
    {
     "name": "stdout",
     "output_type": "stream",
     "text": [
      "23 is odd number\n"
     ]
    },
    {
     "data": {
      "text/plain": [
       "__main__.oddeven"
      ]
     },
     "execution_count": 4,
     "metadata": {},
     "output_type": "execute_result"
    }
   ],
   "source": [
    "oddeven.oddeven()"
   ]
  },
  {
   "cell_type": "code",
   "execution_count": 5,
   "id": "4256152d-565e-4edb-b375-29a69fab05a7",
   "metadata": {},
   "outputs": [],
   "source": [
    "class eligiblforM():\n",
    "    def eligible():\n",
    "        gender=input(\"Your gender:\")\n",
    "        age=int(input(\"Your age:\"))\n",
    "        if(gender==\"male\"):\n",
    "            if(age>21):\n",
    "                print(\"eligible\")\n",
    "            else:\n",
    "                print(\"not eligible\")\n",
    "        elif(gender==\"female\"):\n",
    "            if(age>18):\n",
    "                print(\"eligible\")\n",
    "            else:    \n",
    "                print(\"not eligible\")\n",
    "        else:\n",
    "            print(\"####\")\n",
    "        return eligible    "
   ]
  },
  {
   "cell_type": "code",
   "execution_count": 6,
   "id": "0f6b7724-c36d-4013-9882-fae66205beae",
   "metadata": {},
   "outputs": [
    {
     "name": "stdin",
     "output_type": "stream",
     "text": [
      "Your gender: male\n",
      "Your age: 25\n"
     ]
    },
    {
     "name": "stdout",
     "output_type": "stream",
     "text": [
      "eligible\n"
     ]
    },
    {
     "ename": "NameError",
     "evalue": "name 'eligible' is not defined",
     "output_type": "error",
     "traceback": [
      "\u001b[1;31m---------------------------------------------------------------------------\u001b[0m",
      "\u001b[1;31mNameError\u001b[0m                                 Traceback (most recent call last)",
      "Cell \u001b[1;32mIn[6], line 1\u001b[0m\n\u001b[1;32m----> 1\u001b[0m eligiblforM\u001b[38;5;241m.\u001b[39meligible()\n",
      "Cell \u001b[1;32mIn[5], line 17\u001b[0m, in \u001b[0;36meligiblforM.eligible\u001b[1;34m()\u001b[0m\n\u001b[0;32m     15\u001b[0m \u001b[38;5;28;01melse\u001b[39;00m:\n\u001b[0;32m     16\u001b[0m     \u001b[38;5;28mprint\u001b[39m(\u001b[38;5;124m\"\u001b[39m\u001b[38;5;124m####\u001b[39m\u001b[38;5;124m\"\u001b[39m)\n\u001b[1;32m---> 17\u001b[0m \u001b[38;5;28;01mreturn\u001b[39;00m eligible\n",
      "\u001b[1;31mNameError\u001b[0m: name 'eligible' is not defined"
     ]
    }
   ],
   "source": [
    "eligiblforM.eligible()"
   ]
  },
  {
   "cell_type": "code",
   "execution_count": 7,
   "id": "a21a3230-cccf-4120-8c87-9c251ea38833",
   "metadata": {},
   "outputs": [],
   "source": [
    "class findpercentage():\n",
    "    def percentage():\n",
    "        sub1=int(input(\"subject1\"))\n",
    "        sub2=int(input(\"subject2\"))\n",
    "        sub3=int(input(\"subject3\"))\n",
    "        sub4=int(input(\"subject4\"))\n",
    "        sub5=int(input(\"subject5\"))\n",
    "        total=sub1+sub2+sub3+sub4+sub5\n",
    "        percentage=((total/500)*100)\n",
    "        print(\"total\",total)\n",
    "        print(\"percentage\",percentage)\n",
    "        return percentage"
   ]
  },
  {
   "cell_type": "code",
   "execution_count": 8,
   "id": "32a02c9b-9a44-44a0-934e-ab16f37ee841",
   "metadata": {},
   "outputs": [
    {
     "name": "stdin",
     "output_type": "stream",
     "text": [
      "subject1 60\n",
      "subject2 80\n",
      "subject3 90\n",
      "subject4 60\n",
      "subject5 50\n"
     ]
    },
    {
     "name": "stdout",
     "output_type": "stream",
     "text": [
      "total 340\n",
      "percentage 68.0\n"
     ]
    },
    {
     "data": {
      "text/plain": [
       "68.0"
      ]
     },
     "execution_count": 8,
     "metadata": {},
     "output_type": "execute_result"
    }
   ],
   "source": [
    "findpercentage.percentage()"
   ]
  },
  {
   "cell_type": "code",
   "execution_count": 9,
   "id": "22d02238-8413-4e66-8e4e-f9f023871c2a",
   "metadata": {},
   "outputs": [],
   "source": [
    "class triangle():\n",
    "    def triangle():\n",
    "        h=int(input(\"height:\"))\n",
    "        b=int(input(\"breadth:\"))\n",
    "        area=((h*b)/2)\n",
    "        print(\"area of the triangle is:\",area)\n",
    "        h1=int(input(\"height1:\"))\n",
    "        h2=int(input(\"height2:\"))\n",
    "        b1=int(input(\"breadth1:\"))\n",
    "        peri=h1+h2+b1\n",
    "        print(\"perimeter of the triangle is:\",peri)\n",
    "        return triangle"
   ]
  },
  {
   "cell_type": "code",
   "execution_count": 10,
   "id": "9d80c3c4-cea2-40e3-a548-ddf1c73c7822",
   "metadata": {},
   "outputs": [
    {
     "name": "stdin",
     "output_type": "stream",
     "text": [
      "height: 3\n",
      "breadth: 5\n"
     ]
    },
    {
     "name": "stdout",
     "output_type": "stream",
     "text": [
      "area of the triangle is: 7.5\n"
     ]
    },
    {
     "name": "stdin",
     "output_type": "stream",
     "text": [
      "height1: 5\n",
      "height2: 6\n",
      "breadth1: 10\n"
     ]
    },
    {
     "name": "stdout",
     "output_type": "stream",
     "text": [
      "perimeter of the triangle is: 21\n"
     ]
    },
    {
     "data": {
      "text/plain": [
       "__main__.triangle"
      ]
     },
     "execution_count": 10,
     "metadata": {},
     "output_type": "execute_result"
    }
   ],
   "source": [
    "triangle.triangle()"
   ]
  },
  {
   "cell_type": "code",
   "execution_count": null,
   "id": "e487dd3a-8a3d-4901-bafd-22c33a970dda",
   "metadata": {},
   "outputs": [],
   "source": []
  }
 ],
 "metadata": {
  "kernelspec": {
   "display_name": "Python 3 (ipykernel)",
   "language": "python",
   "name": "python3"
  },
  "language_info": {
   "codemirror_mode": {
    "name": "ipython",
    "version": 3
   },
   "file_extension": ".py",
   "mimetype": "text/x-python",
   "name": "python",
   "nbconvert_exporter": "python",
   "pygments_lexer": "ipython3",
   "version": "3.12.4"
  }
 },
 "nbformat": 4,
 "nbformat_minor": 5
}
